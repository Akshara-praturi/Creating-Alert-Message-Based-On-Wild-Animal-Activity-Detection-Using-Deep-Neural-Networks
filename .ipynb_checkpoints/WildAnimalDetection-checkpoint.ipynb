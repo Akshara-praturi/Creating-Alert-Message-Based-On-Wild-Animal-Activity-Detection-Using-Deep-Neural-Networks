{
 "cells": [
  {
   "cell_type": "code",
   "execution_count": 1,
   "metadata": {},
   "outputs": [],
   "source": [
    "import warnings\n",
    "warnings.filterwarnings('ignore')"
   ]
  },
  {
   "cell_type": "code",
   "execution_count": 3,
   "metadata": {},
   "outputs": [],
   "source": [
    "#import packages and classes\n",
    "import os\n",
    "import cv2\n",
    "import numpy as np\n",
    "from keras.utils.np_utils import to_categorical\n",
    "from keras.layers import  MaxPooling2D\n",
    "from keras.layers import Dense, Dropout, Activation, Flatten, GlobalAveragePooling2D, BatchNormalization, RepeatVector\n",
    "from keras.layers import Convolution2D\n",
    "from keras.models import Sequential\n",
    "import pickle\n",
    "from tensorflow.keras.applications import VGG19 #load VGG19 class\n",
    "from sklearn.metrics import precision_score\n",
    "from sklearn.metrics import recall_score\n",
    "from sklearn.metrics import f1_score\n",
    "from sklearn.metrics import accuracy_score\n",
    "from sklearn.model_selection import train_test_split\n",
    "from keras.callbacks import ModelCheckpoint\n",
    "from keras.layers import LSTM #load lstm class\n",
    "from keras.layers import Bidirectional, GRU #load bidirectional and GRU class\n",
    "from sklearn.metrics import confusion_matrix\n",
    "import seaborn as sns\n",
    "import matplotlib.pyplot as plt"
   ]
  },
  {
   "cell_type": "code",
   "execution_count": 4,
   "metadata": {},
   "outputs": [
    {
     "name": "stdout",
     "output_type": "stream",
     "text": [
      "Labels found in Dataset : ['Cheetah', 'Jaguar', 'Leopard', 'Lion', 'Tiger']\n"
     ]
    }
   ],
   "source": [
    "#define function to get label using animal name and then print different types of animals found in dataset\n",
    "labels = []\n",
    "path = 'Animals'\n",
    "for root, dirs, directory in os.walk(path):\n",
    "    for j in range(len(directory)):\n",
    "        name = os.path.basename(root)\n",
    "        if name not in labels:\n",
    "            labels.append(name.strip())\n",
    "\n",
    "def getLabel(name):\n",
    "    index = -1\n",
    "    for i in range(len(labels)):\n",
    "        if labels[i] == name:\n",
    "            index = i\n",
    "            break\n",
    "    return index\n",
    "print(\"Labels found in Dataset : \"+str(labels))"
   ]
  },
  {
   "cell_type": "code",
   "execution_count": 5,
   "metadata": {},
   "outputs": [
    {
     "name": "stdout",
     "output_type": "stream",
     "text": [
      "Dataset images loading completed\n",
      "Total images found in Dataset : 1833\n"
     ]
    }
   ],
   "source": [
    "#load dataset images\n",
    "if os.path.exists('model/X.txt.npy'):\n",
    "    X = np.load('model/X.txt.npy')\n",
    "    Y = np.load('model/Y.txt.npy')\n",
    "else:\n",
    "    X = []\n",
    "    Y = []\n",
    "    for root, dirs, directory in os.walk(path):#loop all images in dataset\n",
    "        for j in range(len(directory)):\n",
    "            name = os.path.basename(root)\n",
    "            if 'Thumbs.db' not in directory[j]:\n",
    "                img = cv2.imread(root+\"/\"+directory[j])#read image\n",
    "                img = cv2.resize(img, (32,32))#resize image\n",
    "                im2arr = np.array(img)\n",
    "                im2arr = im2arr.reshape(32,32,3)#extract red, green, blue 3 features from iamges\n",
    "                X.append(im2arr)#add image features to X\n",
    "                label = getLabel(name)\n",
    "                Y.append(label) #add label to Y\n",
    "    X = np.asarray(X)#save X as training features\n",
    "    Y = np.asarray(Y)\n",
    "    np.save('model/X.txt',X)\n",
    "    np.save('model/Y.txt',Y)\n",
    "print(\"Dataset images loading completed\")\n",
    "print(\"Total images found in Dataset : \"+str(X.shape[0]))"
   ]
  },
  {
   "cell_type": "code",
   "execution_count": 6,
   "metadata": {},
   "outputs": [
    {
     "data": {
      "image/png": "[encoded data removed]",
      "text/plain": [
       "<Figure size 432x288 with 1 Axes>"
      ]
     },
     "metadata": {
      "needs_background": "light"
     },
     "output_type": "display_data"
    }
   ],
   "source": [
    "#plot graph of different animals found in dataset\n",
    "unique, count = np.unique(Y, return_counts = True)\n",
    "height = count\n",
    "bars = labels\n",
    "y_pos = np.arange(len(bars))\n",
    "plt.bar(y_pos, height)\n",
    "plt.xticks(y_pos, bars)\n",
    "plt.xlabel(\"Wild Animal Names\")\n",
    "plt.ylabel(\"Count\")\n",
    "plt.title(\"Dataset Class Label Graph\")\n",
    "plt.show()"
   ]
  },
  {
   "cell_type": "code",
   "execution_count": 7,
   "metadata": {},
   "outputs": [
    {
     "name": "stdout",
     "output_type": "stream",
     "text": [
      "Dataset Normalization & Shuffling Process completed\n"
     ]
    }
   ],
   "source": [
    "#dataset preprocessing such as shuffling and normalization\n",
    "X = X.astype('float32')\n",
    "X = X/255 #normalizing images\n",
    "indices = np.arange(X.shape[0])\n",
    "np.random.shuffle(indices)#shuffling images\n",
    "X = X[indices]\n",
    "Y = Y[indices]\n",
    "Y = to_categorical(Y)\n",
    "print(\"Dataset Normalization & Shuffling Process completed\")"
   ]
  },
  {
   "cell_type": "code",
   "execution_count": 8,
   "metadata": {},
   "outputs": [
    {
     "name": "stdout",
     "output_type": "stream",
     "text": [
      "\n",
      "Dataset train & test split as 80% dataset for training and 20% for testing\n",
      "Training Size (80%): 1466\n",
      "Testing Size (20%): 367\n",
      "\n"
     ]
    }
   ],
   "source": [
    "#now splitting dataset into train & test\n",
    "X_train, X_test, y_train, y_test = train_test_split(X, Y, test_size=0.2) #split dataset into train and test\n",
    "print()\n",
    "print(\"Dataset train & test split as 80% dataset for training and 20% for testing\")\n",
    "print(\"Training Size (80%): \"+str(X_train.shape[0])) #print training and test size\n",
    "print(\"Testing Size (20%): \"+str(X_test.shape[0]))\n",
    "print()"
   ]
  },
  {
   "cell_type": "code",
   "execution_count": 9,
   "metadata": {},
   "outputs": [],
   "source": [
    "#define global variables to calculate and store accuracy and other metrics\n",
    "precision = []\n",
    "recall = []\n",
    "fscore = []\n",
    "accuracy = []\n",
    "\n",
    "ML_Model = []\n",
    "acc = []\n",
    "prec = []\n",
    "rec = []\n",
    "f1 = []\n",
    "\n",
    "#function to call for storing the results\n",
    "def storeResults(model, a,b,c,d):\n",
    "    ML_Model.append(model)\n",
    "    acc.append(round(a, 3))\n",
    "    prec.append(round(b, 3))\n",
    "    rec.append(round(c, 3))\n",
    "    f1.append(round(d, 3))"
   ]
  },
  {
   "cell_type": "code",
   "execution_count": 10,
   "metadata": {},
   "outputs": [],
   "source": [
    "#function to calculate various metrics such as accuracy, precision etc\n",
    "def calculateMetrics(algorithm, predict, testY):\n",
    "    p = precision_score(testY, predict,average='macro') * 100\n",
    "    r = recall_score(testY, predict,average='macro') * 100\n",
    "    f = f1_score(testY, predict,average='macro') * 100\n",
    "    a = accuracy_score(testY,predict)*100     \n",
    "    print()\n",
    "    print(algorithm+' Accuracy  : '+str(a))\n",
    "    print(algorithm+' Precision   : '+str(p))\n",
    "    print(algorithm+' Recall      : '+str(r))\n",
    "    print(algorithm+' FMeasure    : '+str(f))    \n",
    "    accuracy.append(a)\n",
    "    precision.append(p)\n",
    "    recall.append(r)\n",
    "    fscore.append(f)\n",
    "    conf_matrix = confusion_matrix(testY, predict) \n",
    "    plt.figure(figsize =(5, 5)) \n",
    "    ax = sns.heatmap(conf_matrix, xticklabels = labels, yticklabels = labels, annot = True, cmap=\"viridis\" ,fmt =\"g\");\n",
    "    ax.set_ylim([0,len(labels)])\n",
    "    plt.title(algorithm+\" Confusion matrix\") \n",
    "    plt.ylabel('True class') \n",
    "    plt.xlabel('Predicted class') \n",
    "    plt.show()"
   ]
  },
  {
   "cell_type": "markdown",
   "metadata": {},
   "source": [
    "# CNN"
   ]
  },
  {
   "cell_type": "code",
   "execution_count": 11,
   "metadata": {},
   "outputs": [
    {
     "name": "stdout",
     "output_type": "stream",
     "text": [
      "\n",
      "Existing CNN Accuracy  : 94.27792915531336\n",
      "Existing CNN Precision   : 94.63951568519538\n",
      "Existing CNN Recall      : 94.11336672397522\n",
      "Existing CNN FMeasure    : 94.24073395454633\n"
     ]
    },
    {
     "data": {
      "image/png": "[encoded data removed]",
      "text/plain": [
       "<Figure size 360x360 with 2 Axes>"
      ]
     },
     "metadata": {
      "needs_background": "light"
     },
     "output_type": "display_data"
    }
   ],
   "source": [
    "#now train existing CNN algortihm\n",
    "cnn = Sequential()\n",
    "#create CNN layer with 32 neurons to filter dataset 32 times\n",
    "cnn.add(Convolution2D(32, (3 , 3), input_shape = (X_train.shape[1], X_train.shape[2], X_train.shape[3]), activation = 'relu'))\n",
    "#max pool layer to collect optimize/filtered features from previous CNN layer\n",
    "cnn.add(MaxPooling2D(pool_size = (2, 2)))\n",
    "cnn.add(Convolution2D(32, (3, 3), activation = 'relu'))\n",
    "cnn.add(MaxPooling2D(pool_size = (2, 2)))\n",
    "cnn.add(Flatten())\n",
    "cnn.add(Dense(units = 256, activation = 'relu'))\n",
    "#define output layers\n",
    "cnn.add(Dense(units = y_train.shape[1], activation = 'softmax'))\n",
    "#train and compile the model\n",
    "cnn.compile(optimizer = 'adam', loss = 'categorical_crossentropy', metrics = ['accuracy'])\n",
    "if os.path.exists(\"model/cnn_weights.hdf5\") == False:\n",
    "    model_check_point = ModelCheckpoint(filepath='model/cnn_weights.hdf5', verbose = 1, save_best_only = True)\n",
    "    hist = cnn.fit(X_train, y_train, batch_size = 32, epochs = 15, validation_data=(X_test, y_test), callbacks=[model_check_point], verbose=1)\n",
    "    f = open('model/cnn_history.pckl', 'wb')\n",
    "    pickle.dump(hist.history, f)\n",
    "    f.close()    \n",
    "else:\n",
    "    cnn.load_weights(\"model/cnn_weights.hdf5\")\n",
    "#perform prediction on test data    \n",
    "predict = cnn.predict(X_test)\n",
    "predict = np.argmax(predict, axis=1)\n",
    "test = np.argmax(y_test, axis=1)\n",
    "calculateMetrics(\"Existing CNN\", predict, test)#call function to calculate accuracy and other metrics"
   ]
  },
  {
   "cell_type": "code",
   "execution_count": 12,
   "metadata": {},
   "outputs": [],
   "source": [
    "cnn_acc = (accuracy_score(predict, test))\n",
    "cnn_prec = precision_score(predict, test,average='weighted')\n",
    "cnn_rec = recall_score(predict, test,average='weighted')\n",
    "cnn_f1 = f1_score(predict, test,average='weighted')"
   ]
  },
  {
   "cell_type": "code",
   "execution_count": 13,
   "metadata": {},
   "outputs": [],
   "source": [
    "storeResults('Existing CNN',cnn_acc,cnn_prec,cnn_rec,cnn_f1)"
   ]
  },
  {
   "cell_type": "markdown",
   "metadata": {},
   "source": [
    "# VGG19 + BiLSTM"
   ]
  },
  {
   "cell_type": "code",
   "execution_count": 16,
   "metadata": {},
   "outputs": [
    {
     "name": "stdout",
     "output_type": "stream",
     "text": [
      "Epoch 1/20\n",
      "46/46 [==============================] - 19s 35ms/step - loss: 1.5604 - accuracy: 0.2875 - val_loss: 1.3084 - val_accuracy: 0.4496\n",
      "Epoch 2/20\n",
      "46/46 [==============================] - 0s 9ms/step - loss: 1.2257 - accuracy: 0.5135 - val_loss: 1.1418 - val_accuracy: 0.5450\n",
      "Epoch 3/20\n",
      "46/46 [==============================] - 0s 9ms/step - loss: 0.9494 - accuracy: 0.6056 - val_loss: 0.8816 - val_accuracy: 0.6349\n",
      "Epoch 4/20\n",
      "46/46 [==============================] - 0s 9ms/step - loss: 0.7809 - accuracy: 0.7099 - val_loss: 0.7828 - val_accuracy: 0.6894\n",
      "Epoch 5/20\n",
      "46/46 [==============================] - 0s 9ms/step - loss: 0.7139 - accuracy: 0.7224 - val_loss: 0.6905 - val_accuracy: 0.7275\n",
      "Epoch 6/20\n",
      "46/46 [==============================] - 0s 9ms/step - loss: 0.5642 - accuracy: 0.7799 - val_loss: 0.6331 - val_accuracy: 0.7548\n",
      "Epoch 7/20\n",
      "46/46 [==============================] - 0s 9ms/step - loss: 0.4949 - accuracy: 0.8148 - val_loss: 0.5800 - val_accuracy: 0.7684\n",
      "Epoch 8/20\n",
      "46/46 [==============================] - 0s 9ms/step - loss: 0.4224 - accuracy: 0.8490 - val_loss: 0.5779 - val_accuracy: 0.7929\n",
      "Epoch 9/20\n",
      "46/46 [==============================] - 0s 9ms/step - loss: 0.4689 - accuracy: 0.8271 - val_loss: 0.5080 - val_accuracy: 0.8147\n",
      "Epoch 10/20\n",
      "46/46 [==============================] - 0s 9ms/step - loss: 0.3107 - accuracy: 0.8789 - val_loss: 0.5923 - val_accuracy: 0.7793\n",
      "Epoch 11/20\n",
      "46/46 [==============================] - 0s 9ms/step - loss: 0.3081 - accuracy: 0.8809 - val_loss: 0.4651 - val_accuracy: 0.8447\n",
      "Epoch 12/20\n",
      "46/46 [==============================] - 0s 9ms/step - loss: 0.3326 - accuracy: 0.8635 - val_loss: 0.5021 - val_accuracy: 0.8229\n",
      "Epoch 13/20\n",
      "46/46 [==============================] - 0s 9ms/step - loss: 0.3002 - accuracy: 0.8868 - val_loss: 0.4795 - val_accuracy: 0.8174\n",
      "Epoch 14/20\n",
      "46/46 [==============================] - 0s 9ms/step - loss: 0.2487 - accuracy: 0.9080 - val_loss: 0.4479 - val_accuracy: 0.8501\n",
      "Epoch 15/20\n",
      "46/46 [==============================] - 0s 9ms/step - loss: 0.2329 - accuracy: 0.9175 - val_loss: 0.4134 - val_accuracy: 0.8801\n",
      "Epoch 16/20\n",
      "46/46 [==============================] - 0s 9ms/step - loss: 0.1736 - accuracy: 0.9259 - val_loss: 0.4129 - val_accuracy: 0.8665\n",
      "Epoch 17/20\n",
      "46/46 [==============================] - 0s 9ms/step - loss: 0.1562 - accuracy: 0.9426 - val_loss: 0.4257 - val_accuracy: 0.8610\n",
      "Epoch 18/20\n",
      "46/46 [==============================] - 0s 9ms/step - loss: 0.2149 - accuracy: 0.9183 - val_loss: 0.4488 - val_accuracy: 0.8501\n",
      "Epoch 19/20\n",
      "46/46 [==============================] - 0s 9ms/step - loss: 0.1465 - accuracy: 0.9491 - val_loss: 0.4695 - val_accuracy: 0.8610\n",
      "Epoch 20/20\n",
      "46/46 [==============================] - 0s 9ms/step - loss: 0.1561 - accuracy: 0.9412 - val_loss: 0.5125 - val_accuracy: 0.8365\n",
      "\n",
      "Propose VGG19 + BI-LSTM Accuracy  : 83.65122615803816\n",
      "Propose VGG19 + BI-LSTM Precision   : 84.42886862902685\n",
      "Propose VGG19 + BI-LSTM Recall      : 83.88588218973577\n",
      "Propose VGG19 + BI-LSTM FMeasure    : 83.67137267016786\n"
     ]
    },
    {
     "data": {
      "image/png": "[encoded data removed]",
      "text/plain": [
       "<Figure size 360x360 with 2 Axes>"
      ]
     },
     "metadata": {
      "needs_background": "light"
     },
     "output_type": "display_data"
    }
   ],
   "source": [
    "#now train propose VGG19 + BI-LSTM algorithm\n",
    "#create vgg19 object\n",
    "vgg = VGG19(include_top=False, weights='imagenet', input_shape=(X_train.shape[1], X_train.shape[2], X_train.shape[3]))\n",
    "for layer in vgg.layers:\n",
    "    layer.trainable = False\n",
    "#creating deep learning object    \n",
    "vgg_bilstm = Sequential()\n",
    "#adding vgg to animal training deep learning model\n",
    "vgg_bilstm.add(vgg)\n",
    "#adding cnn layer to filter animal images features\n",
    "vgg_bilstm.add(Convolution2D(32, (1 , 1), input_shape = (X_train.shape[1], X_train.shape[2], X_train.shape[3]), activation = 'relu'))\n",
    "vgg_bilstm.add(MaxPooling2D(pool_size = (1, 1)))\n",
    "vgg_bilstm.add(Convolution2D(32, (1, 1), activation = 'relu'))\n",
    "vgg_bilstm.add(MaxPooling2D(pool_size = (1, 1)))\n",
    "vgg_bilstm.add(Flatten())\n",
    "vgg_bilstm.add(RepeatVector(2))\n",
    "#adding BI-LSTM layer\n",
    "vgg_bilstm.add(Bidirectional(LSTM(32)))\n",
    "#deining output layer\n",
    "vgg_bilstm.add(Dense(units = 256, activation = 'relu'))\n",
    "vgg_bilstm.add(Dense(units = y_train.shape[1], activation = 'softmax'))\n",
    "#compiling and training model\n",
    "vgg_bilstm.compile(optimizer = 'adam', loss = 'categorical_crossentropy', metrics = ['accuracy'])\n",
    "#if os.path.exists(\"model/vgg_bilstm_weights.hdf5\") == False:\n",
    "    #model_check_point = ModelCheckpoint(filepath='model/vgg_bilstm_weights.hdf5', verbose = 1, save_best_only = True)\n",
    "hist = vgg_bilstm.fit(X_train, y_train, batch_size = 32, epochs = 20, validation_data=(X_test, y_test), verbose=1)\n",
    "    #f = open('model/vgg_bilstm_history.pckl', 'wb')\n",
    "    #pickle.dump(hist.history, f)\n",
    "    #f.close()    \n",
    "#else:\n",
    "    #vgg_bilstm.load_weights(\"model/vgg_bilstm_weights.hdf5\")\n",
    "#perform prediction on test data\n",
    "predict = vgg_bilstm.predict(X_test)\n",
    "predict = np.argmax(predict, axis=1)\n",
    "test = np.argmax(y_test, axis=1)\n",
    "calculateMetrics(\"Propose VGG19 + BI-LSTM\", predict, test)#call function to calculate accuracy and other metrics"
   ]
  },
  {
   "cell_type": "code",
   "execution_count": 17,
   "metadata": {},
   "outputs": [],
   "source": [
    "cnn_acc = (accuracy_score(predict, test))\n",
    "cnn_prec = precision_score(predict, test,average='weighted')\n",
    "cnn_rec = recall_score(predict, test,average='weighted')\n",
    "cnn_f1 = f1_score(predict, test,average='weighted')\n",
    "\n",
    "storeResults('Propose VGG19 + BI-LSTM',cnn_acc,cnn_prec,cnn_rec,cnn_f1)"
   ]
  },
  {
   "cell_type": "markdown",
   "metadata": {},
   "source": [
    "# Extension CNN + Bidirectional GRU"
   ]
  },
  {
   "cell_type": "code",
   "execution_count": 21,
   "metadata": {},
   "outputs": [
    {
     "name": "stdout",
     "output_type": "stream",
     "text": [
      "Epoch 1/20\n",
      "46/46 [==============================] - 3s 22ms/step - loss: 1.5801 - accuracy: 0.2501 - val_loss: 1.4257 - val_accuracy: 0.4100\n",
      "Epoch 2/20\n",
      "46/46 [==============================] - 0s 9ms/step - loss: 1.3959 - accuracy: 0.4016 - val_loss: 1.2781 - val_accuracy: 0.4720\n",
      "Epoch 3/20\n",
      "46/46 [==============================] - 0s 8ms/step - loss: 1.2681 - accuracy: 0.4636 - val_loss: 1.1126 - val_accuracy: 0.5559\n",
      "Epoch 4/20\n",
      "46/46 [==============================] - 0s 9ms/step - loss: 1.0968 - accuracy: 0.5464 - val_loss: 0.8986 - val_accuracy: 0.6548\n",
      "Epoch 5/20\n",
      "46/46 [==============================] - 0s 8ms/step - loss: 0.9421 - accuracy: 0.6369 - val_loss: 0.9600 - val_accuracy: 0.6078\n",
      "Epoch 6/20\n",
      "46/46 [==============================] - 0s 8ms/step - loss: 0.8120 - accuracy: 0.6913 - val_loss: 0.5760 - val_accuracy: 0.7920\n",
      "Epoch 7/20\n",
      "46/46 [==============================] - 0s 8ms/step - loss: 0.5584 - accuracy: 0.7918 - val_loss: 0.4090 - val_accuracy: 0.8649\n",
      "Epoch 8/20\n",
      "46/46 [==============================] - 0s 8ms/step - loss: 0.4533 - accuracy: 0.8339 - val_loss: 0.2528 - val_accuracy: 0.9284\n",
      "Epoch 9/20\n",
      "46/46 [==============================] - 0s 9ms/step - loss: 0.2835 - accuracy: 0.8952 - val_loss: 0.1693 - val_accuracy: 0.9625\n",
      "Epoch 10/20\n",
      "46/46 [==============================] - 0s 8ms/step - loss: 0.1652 - accuracy: 0.9569 - val_loss: 0.1034 - val_accuracy: 0.9768\n",
      "Epoch 11/20\n",
      "46/46 [==============================] - 0s 9ms/step - loss: 0.1290 - accuracy: 0.9645 - val_loss: 0.0896 - val_accuracy: 0.9802\n",
      "Epoch 12/20\n",
      "46/46 [==============================] - 0s 8ms/step - loss: 0.1303 - accuracy: 0.9580 - val_loss: 0.0707 - val_accuracy: 0.9782\n",
      "Epoch 13/20\n",
      "46/46 [==============================] - 0s 8ms/step - loss: 0.0543 - accuracy: 0.9902 - val_loss: 0.0412 - val_accuracy: 0.9877\n",
      "Epoch 14/20\n",
      "46/46 [==============================] - 0s 8ms/step - loss: 0.0750 - accuracy: 0.9750 - val_loss: 0.0688 - val_accuracy: 0.9816\n",
      "Epoch 15/20\n",
      "46/46 [==============================] - 0s 8ms/step - loss: 0.0778 - accuracy: 0.9763 - val_loss: 0.0357 - val_accuracy: 0.9945\n",
      "Epoch 16/20\n",
      "46/46 [==============================] - 0s 8ms/step - loss: 0.0219 - accuracy: 0.9951 - val_loss: 0.0105 - val_accuracy: 1.0000\n",
      "Epoch 17/20\n",
      "46/46 [==============================] - 0s 8ms/step - loss: 0.0077 - accuracy: 1.0000 - val_loss: 0.0034 - val_accuracy: 1.0000\n",
      "Epoch 18/20\n",
      "46/46 [==============================] - 0s 8ms/step - loss: 0.0027 - accuracy: 1.0000 - val_loss: 0.0021 - val_accuracy: 1.0000\n",
      "Epoch 19/20\n",
      "46/46 [==============================] - 0s 9ms/step - loss: 0.0020 - accuracy: 1.0000 - val_loss: 0.0016 - val_accuracy: 1.0000\n",
      "Epoch 20/20\n",
      "46/46 [==============================] - 0s 9ms/step - loss: 0.0016 - accuracy: 1.0000 - val_loss: 0.0013 - val_accuracy: 1.0000\n",
      "\n",
      "Extension CNN + GRU Accuracy  : 100.0\n",
      "Extension CNN + GRU Precision   : 100.0\n",
      "Extension CNN + GRU Recall      : 100.0\n",
      "Extension CNN + GRU FMeasure    : 100.0\n"
     ]
    },
    {
     "data": {
      "image/png": "[encoded data removed]",
      "text/plain": [
       "<Figure size 360x360 with 2 Axes>"
      ]
     },
     "metadata": {
      "needs_background": "light"
     },
     "output_type": "display_data"
    }
   ],
   "source": [
    "#now train extension CNN + Bidirectional GRU\n",
    "#creating deep learning object  \n",
    "extension_gru = Sequential()\n",
    "#adding cnn layer to filter animal images features\n",
    "extension_gru.add(Convolution2D(32, (3 , 3), input_shape = (X_train.shape[1], X_train.shape[2], X_train.shape[3]), activation = 'relu'))\n",
    "extension_gru.add(MaxPooling2D(pool_size = (2, 2)))\n",
    "extension_gru.add(Convolution2D(32, (3, 3), activation = 'relu'))\n",
    "extension_gru.add(MaxPooling2D(pool_size = (2, 2)))\n",
    "extension_gru.add(Flatten())\n",
    "extension_gru.add(RepeatVector(2))\n",
    "#adding BI-GRU layer\n",
    "extension_gru.add(Bidirectional(GRU(32)))\n",
    "#deining output layer\n",
    "extension_gru.add(Dense(units = 256, activation = 'relu'))\n",
    "extension_gru.add(Dense(units = y_train.shape[1], activation = 'softmax'))\n",
    "#compiling and training model\n",
    "extension_gru.compile(optimizer = 'adam', loss = 'categorical_crossentropy', metrics = ['accuracy'])\n",
    "#if os.path.exists(\"model/extension_weights.hdf5\") == False:\n",
    "    #model_check_point = ModelCheckpoint(filepath='model/extension_weights.hdf5', verbose = 1, save_best_only = True)\n",
    "hist = extension_gru.fit(X_train, y_train, batch_size = 32, epochs = 20, validation_data=(X_test, y_test),  verbose=1)\n",
    "    #f = open('model/extension_history.pckl', 'wb')\n",
    "    #pickle.dump(hist.history, f)\n",
    "    #f.close()    \n",
    "#else:\n",
    "    #extension_gru.load_weights(\"model/extension_weights.hdf5\")\n",
    "#perform prediction on test data\n",
    "predict = extension_gru.predict(X_test)\n",
    "predict = np.argmax(predict, axis=1)\n",
    "test = np.argmax(y_test, axis=1)\n",
    "calculateMetrics(\"Extension CNN + GRU\", predict, test)#call function to calculate accuracy and other metrics"
   ]
  },
  {
   "cell_type": "code",
   "execution_count": 22,
   "metadata": {},
   "outputs": [],
   "source": [
    "cnn_acc = (accuracy_score(predict, test))\n",
    "cnn_prec = precision_score(predict, test,average='weighted')\n",
    "cnn_rec = recall_score(predict, test,average='weighted')\n",
    "cnn_f1 = f1_score(predict, test,average='weighted')\n",
    "\n",
    "storeResults('Extension CNN + GRU',cnn_acc,cnn_prec,cnn_rec,cnn_f1)"
   ]
  },
  {
   "cell_type": "markdown",
   "metadata": {},
   "source": [
    "# Comparison"
   ]
  },
  {
   "cell_type": "code",
   "execution_count": 23,
   "metadata": {},
   "outputs": [
    {
     "data": {
      "image/png": "[encoded data removed]",
      "text/plain": [
       "<Figure size 432x288 with 1 Axes>"
      ]
     },
     "metadata": {
      "needs_background": "light"
     },
     "output_type": "display_data"
    }
   ],
   "source": [
    "import pandas as pd\n",
    "df = pd.DataFrame([['Existing CNN','Precision',precision[0]],['Existing CNN','Recall',recall[0]],['Existing CNN','F1 Score',fscore[0]],['Existing CNN','Accuracy',accuracy[0]],\n",
    "                   ['Propose VGG19 + BI-LSTM','Precision',precision[1]],['Propose VGG19 + BI-LSTM','Recall',recall[1]],['Propose VGG19 + BI-LSTM','F1 Score',fscore[1]],['Propose VGG19 + BI-LSTM','Accuracy',accuracy[1]],\n",
    "                   ['Extension CNN + GRU','Precision',precision[2]],['Extension CNN + GRU','Recall',recall[2]],['Extension CNN + GRU','F1 Score',fscore[2]],['Extension CNN + GRU','Accuracy',accuracy[2]],\n",
    "                  ],columns=['Parameters','Algorithms','Value'])\n",
    "df.pivot(\"Parameters\", \"Algorithms\", \"Value\").plot(kind='bar')\n",
    "plt.title(\"All Algorithms Performance Graph\")\n",
    "plt.show()"
   ]
  },
  {
   "cell_type": "code",
   "execution_count": 26,
   "metadata": {},
   "outputs": [],
   "source": [
    "#creating dataframe\n",
    "import pandas as pd\n",
    "result = pd.DataFrame({ 'ML Model' : ML_Model,\n",
    "                        'Accuracy' : acc,\n",
    "                       'Precision': prec,\n",
    "                       'Recall'   : rec,\n",
    "                        'f1_score' : f1,\n",
    "                      })"
   ]
  },
  {
   "cell_type": "code",
   "execution_count": 27,
   "metadata": {},
   "outputs": [
    {
     "data": {
      "text/html": [
       "<div>\n",
       "<style scoped>\n",
       "    .dataframe tbody tr th:only-of-type {\n",
       "        vertical-align: middle;\n",
       "    }\n",
       "\n",
       "    .dataframe tbody tr th {\n",
       "        vertical-align: top;\n",
       "    }\n",
       "\n",
       "    .dataframe thead th {\n",
       "        text-align: right;\n",
       "    }\n",
       "</style>\n",
       "<table border=\"1\" class=\"dataframe\">\n",
       "  <thead>\n",
       "    <tr style=\"text-align: right;\">\n",
       "      <th></th>\n",
       "      <th>ML Model</th>\n",
       "      <th>Accuracy</th>\n",
       "      <th>Precision</th>\n",
       "      <th>Recall</th>\n",
       "      <th>f1_score</th>\n",
       "    </tr>\n",
       "  </thead>\n",
       "  <tbody>\n",
       "    <tr>\n",
       "      <th>0</th>\n",
       "      <td>Existing CNN</td>\n",
       "      <td>0.943</td>\n",
       "      <td>0.946</td>\n",
       "      <td>0.943</td>\n",
       "      <td>0.943</td>\n",
       "    </tr>\n",
       "    <tr>\n",
       "      <th>1</th>\n",
       "      <td>Propose VGG19 + BI-LSTM</td>\n",
       "      <td>0.837</td>\n",
       "      <td>0.841</td>\n",
       "      <td>0.837</td>\n",
       "      <td>0.834</td>\n",
       "    </tr>\n",
       "    <tr>\n",
       "      <th>2</th>\n",
       "      <td>Extension CNN + GRU</td>\n",
       "      <td>1.000</td>\n",
       "      <td>1.000</td>\n",
       "      <td>1.000</td>\n",
       "      <td>1.000</td>\n",
       "    </tr>\n",
       "  </tbody>\n",
       "</table>\n",
       "</div>"
      ],
      "text/plain": [
       "                  ML Model  Accuracy  Precision  Recall  f1_score\n",
       "0             Existing CNN     0.943      0.946   0.943     0.943\n",
       "1  Propose VGG19 + BI-LSTM     0.837      0.841   0.837     0.834\n",
       "2      Extension CNN + GRU     1.000      1.000   1.000     1.000"
      ]
     },
     "execution_count": 27,
     "metadata": {},
     "output_type": "execute_result"
    }
   ],
   "source": [
    "result"
   ]
  },
  {
   "cell_type": "code",
   "execution_count": 28,
   "metadata": {},
   "outputs": [],
   "source": [
    "extension_gru.save('model.h5')"
   ]
  },
  {
   "cell_type": "code",
   "execution_count": 30,
   "metadata": {},
   "outputs": [],
   "source": [
    "classifier = ML_Model\n",
    "y_pos = np.arange(len(classifier))"
   ]
  },
  {
   "cell_type": "code",
   "execution_count": 31,
   "metadata": {},
   "outputs": [
    {
     "data": {
      "image/png": "[encoded data removed]",
      "text/plain": [
       "<Figure size 432x288 with 1 Axes>"
      ]
     },
     "metadata": {
      "needs_background": "light"
     },
     "output_type": "display_data"
    }
   ],
   "source": [
    "import matplotlib.pyplot as plt2\n",
    "plt2.barh(y_pos, acc, align='center', alpha=0.5,color='blue')\n",
    "plt2.yticks(y_pos, classifier)\n",
    "plt2.xlabel('Accuracy Score')\n",
    "plt2.title('Classification Performance')\n",
    "plt2.show()"
   ]
  },
  {
   "cell_type": "code",
   "execution_count": 32,
   "metadata": {},
   "outputs": [
    {
     "data": {
      "image/png": "[encoded data removed]",
      "text/plain": [
       "<Figure size 432x288 with 1 Axes>"
      ]
     },
     "metadata": {
      "needs_background": "light"
     },
     "output_type": "display_data"
    }
   ],
   "source": [
    "plt2.barh(y_pos, prec, align='center', alpha=0.5,color='red')\n",
    "plt2.yticks(y_pos, classifier)\n",
    "plt2.xlabel('Precision Score')\n",
    "plt2.title('Classification Performance')\n",
    "plt2.show()"
   ]
  },
  {
   "cell_type": "code",
   "execution_count": 33,
   "metadata": {},
   "outputs": [
    {
     "data": {
      "image/png": "[encoded data removed]",
      "text/plain": [
       "<Figure size 432x288 with 1 Axes>"
      ]
     },
     "metadata": {
      "needs_background": "light"
     },
     "output_type": "display_data"
    }
   ],
   "source": [
    "plt2.barh(y_pos, rec, align='center', alpha=0.5,color='yellow')\n",
    "plt2.yticks(y_pos, classifier)\n",
    "plt2.xlabel('Recall Score')\n",
    "plt2.title('Classification Performance')\n",
    "plt2.show()"
   ]
  },
  {
   "cell_type": "code",
   "execution_count": 34,
   "metadata": {},
   "outputs": [
    {
     "data": {
      "image/png": "[encoded data removed]",
      "text/plain": [
       "<Figure size 432x288 with 1 Axes>"
      ]
     },
     "metadata": {
      "needs_background": "light"
     },
     "output_type": "display_data"
    }
   ],
   "source": [
    "plt2.barh(y_pos, f1, align='center', alpha=0.5,color='pink')\n",
    "plt2.yticks(y_pos, classifier)\n",
    "plt2.xlabel('F1 Score')\n",
    "plt2.title('Classification Performance')\n",
    "plt2.show()"
   ]
  },
  {
   "cell_type": "code",
   "execution_count": null,
   "metadata": {},
   "outputs": [],
   "source": []
  },
  {
   "cell_type": "code",
   "execution_count": null,
   "metadata": {},
   "outputs": [],
   "source": []
  }
 ],
 "metadata": {
  "kernelspec": {
   "display_name": "Python 3",
   "language": "python",
   "name": "python3"
  },
  "language_info": {
   "codemirror_mode": {
    "name": "ipython",
    "version": 3
   },
   "file_extension": ".py",
   "mimetype": "text/x-python",
   "name": "python",
   "nbconvert_exporter": "python",
   "pygments_lexer": "ipython3",
   "version": "3.7.4"
  }
 },
 "nbformat": 4,
 "nbformat_minor": 5
}
